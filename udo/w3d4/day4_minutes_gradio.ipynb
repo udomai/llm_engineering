{
  "nbformat": 4,
  "nbformat_minor": 0,
  "metadata": {
    "colab": {
      "provenance": [],
      "gpuType": "T4"
    },
    "kernelspec": {
      "name": "python3",
      "display_name": "Python 3"
    },
    "language_info": {
      "name": "python"
    },
    "accelerator": "GPU"
  },
  "cells": [
    {
      "cell_type": "code",
      "execution_count": null,
      "metadata": {
        "id": "RuE3sIePoqto"
      },
      "outputs": [],
      "source": [
        "!pip install -q requests torch bitsandbytes transformers sentencepiece accelerate openai httpx==0.27.2 gradio"
      ]
    },
    {
      "cell_type": "code",
      "source": [
        "import os\n",
        "import requests\n",
        "from IPython.display import Markdown, display, update_display\n",
        "from openai import OpenAI\n",
        "from google.colab import drive\n",
        "from huggingface_hub import login\n",
        "from google.colab import userdata\n",
        "from transformers import AutoTokenizer, AutoModelForCausalLM, TextStreamer, BitsAndBytesConfig\n",
        "import torch\n",
        "import re\n",
        "import gradio as gr"
      ],
      "metadata": {
        "id": "L4JTxufWo3bb"
      },
      "execution_count": null,
      "outputs": []
    },
    {
      "cell_type": "code",
      "source": [],
      "metadata": {
        "id": "JcGASaa38trc"
      },
      "execution_count": null,
      "outputs": []
    },
    {
      "cell_type": "code",
      "source": [
        "AUDIO_MODEL = \"whisper-1\"\n",
        "LLAMA = \"meta-llama/Meta-Llama-3.1-8B-Instruct\""
      ],
      "metadata": {
        "id": "JsBAmp0DVJsU"
      },
      "execution_count": null,
      "outputs": []
    },
    {
      "cell_type": "code",
      "source": [
        "hf_token = userdata.get('HF_TOKEN')\n",
        "login(hf_token, add_to_git_credential=True)\n",
        "openai_api_key = userdata.get('OPENAI_API_KEY')\n",
        "openai = OpenAI(api_key=openai_api_key)"
      ],
      "metadata": {
        "id": "IwS6U0TsVjln"
      },
      "execution_count": null,
      "outputs": []
    },
    {
      "cell_type": "code",
      "source": [
        "force_dark_mode = \"\"\"\n",
        "function refresh() {\n",
        "    const url = new URL(window.location);\n",
        "    if (url.searchParams.get('__theme') !== 'dark') {\n",
        "        url.searchParams.set('__theme', 'dark');\n",
        "        window.location.href = url.href;\n",
        "    }\n",
        "}\n",
        "\"\"\""
      ],
      "metadata": {
        "id": "MJxuK5uoZj4F"
      },
      "execution_count": null,
      "outputs": []
    },
    {
      "cell_type": "code",
      "source": [
        "minutes = \"\"\n",
        "\n",
        "def gradioMinutizer(filename):\n",
        "  global minutes\n",
        "  drive.mount(\"/content/drive\")\n",
        "  audio_filename = \"/content/drive/MyDrive/\" + filename\n",
        "\n",
        "  audio_file = open(audio_filename, \"rb\")\n",
        "  transcription = openai.audio.transcriptions.create(model=AUDIO_MODEL, file=audio_file, response_format=\"text\")\n",
        "\n",
        "  system_message = \"You are an assistant that produces minutes of meetings from transcripts. The minutes have a summary, and they mention key discussion points, takeaways, and action items with their owners, in markdown.\"\n",
        "  user_prompt = f\"Below is an extract transcript of a Denver council meeting. Please write minutes in markdown, including a summary with attendees, location and date; discussion points; takeaways; and action items with owners.\\n{transcription}\"\n",
        "\n",
        "  messages = [\n",
        "      {\"role\": \"system\", \"content\": system_message},\n",
        "      {\"role\": \"user\", \"content\": user_prompt}\n",
        "    ]\n",
        "\n",
        "  quant_config = BitsAndBytesConfig(\n",
        "      load_in_4bit=True,\n",
        "      bnb_4bit_use_double_quant=True,\n",
        "      bnb_4bit_compute_dtype=torch.bfloat16,\n",
        "      bnb_4bit_quant_type=\"nf4\"\n",
        "  )\n",
        "\n",
        "  tokenizer = AutoTokenizer.from_pretrained(LLAMA)\n",
        "  tokenizer.pad_token = tokenizer.eos_token\n",
        "  inputs = tokenizer.apply_chat_template(messages, return_tensors=\"pt\").to(\"cuda\")\n",
        "  streamer = TextStreamer(tokenizer)\n",
        "  model = AutoModelForCausalLM.from_pretrained(LLAMA, device_map=\"auto\", quantization_config=quant_config)\n",
        "  outputs = model.generate(inputs, max_new_tokens=2000) #leaving out the streaming business because we need to get rid of unwanted output first\n",
        "\n",
        "  response = tokenizer.decode(outputs[0])\n",
        "  response = list(re.finditer(\"(?:<\\|end_header_id\\|>)([^<]+)(?:<\\|eot_id\\|>)\", str(response), re.DOTALL))[-1].group(1)\n",
        "\n",
        "  minutes = response\n",
        "\n",
        "  return response"
      ],
      "metadata": {
        "id": "Xt0O7M1PQ48d"
      },
      "execution_count": null,
      "outputs": []
    },
    {
      "cell_type": "code",
      "source": [
        "def saveMinutes(path):\n",
        "  global minutes\n",
        "  drive.mount(\"/content/drive\")\n",
        "  with open(\"/content/drive/MyDrive/\" + path, \"w\", encoding=\"utf-8\") as f:\n",
        "    f.write(minutes)"
      ],
      "metadata": {
        "id": "Jt3-dbs1URAg"
      },
      "execution_count": null,
      "outputs": []
    },
    {
      "cell_type": "code",
      "source": [
        "with gr.Blocks(\n",
        "        css=\"\"\"\n",
        "    .red-button {\n",
        "        background-color: darkred !important;\n",
        "        border-color: red !important;\n",
        "    }\n",
        "    .blue-button {\n",
        "        background-color: darkblue !important;\n",
        "        border-color: blue !important;\n",
        "    }\n",
        "    .green-button {\n",
        "        background-color: green !important;\n",
        "        border-color: green !important;\n",
        "    }\n",
        "    \"\"\"\n",
        ") as view:\n",
        "  with gr.Row():\n",
        "    title = gr.HTML(\"<h2>Welcome to the <big>M</big>ighty</h2><h1><big>M</big>eeting <big>M</big>inute <big>M</big>achine</h1>\")\n",
        "    subtitle = gr.HTML(\"<h3>Create meeting minutes in mere …minutes – and three easy steps:</h3><ol><li>Enter the location of the mp3 recording of the meeting on your Google Drive</li>\\\n",
        "<li>Specify the output file (.md) on your Google Drive (leave empty if you don't need it)</li>\\\n",
        "<li>Hit  <q><big>M</big>ake <big>M</big>e <big>M</big>y <big>M</big>inutes</q></div>\")\n",
        "  with gr.Row():\n",
        "    inputPath   = gr.Textbox(label=\"Specify the location of the mp3 recording on your Google Drive\")\n",
        "  with gr.Row():\n",
        "    liveMinutes = gr.Markdown(\n",
        "        value='<div style=\"color: #999; padding: 10px;\">Your meeting minutes will appear here...</div>',\n",
        "        label=\"Meeting minutes:\",\n",
        "         min_height=60\n",
        "        )\n",
        "  with gr.Row():\n",
        "    minutizer = gr.Button(value=\"Make Me My Minutes!\", elem_classes=\"blue-button\")\n",
        "  with gr.Row():\n",
        "    clear = gr.Button(value=\"Clear everything\", elem_classes=\"red-button\")\n",
        "  with gr.Row():\n",
        "    outputPath  = gr.Textbox(label=\"Specify the desired name and location on your Google Drive for the minutes file (.md) to be saved\")\n",
        "  with gr.Row():\n",
        "    save  = gr.Button(value=\"Save My Minutes!\", elem_classes=\"blue-button\")\n",
        "\n",
        "  minutizer.click(gradioMinutizer, inputs=inputPath, outputs=liveMinutes)\n",
        "  clear.click(lambda: gr.update(value=\"\"), [], [inputPath]\n",
        "       ).then(lambda: gr.update(value='<div style=\"color: #999; padding: 10px;\">Your meeting minutes will appear here...</div>'), [], [liveMinutes]\n",
        "       ).then(lambda: gr.update(value=\"\"), [], [outputPath]\n",
        "       ).then(lambda: gr.update(value=\"Save My Minutes!\", elem_classes=\"blue-button\"), [], [save]\n",
        "       )\n",
        "  save.click(saveMinutes, inputs=outputPath, outputs=[]).then(lambda: gr.update(value=\"Minutes saved!\", elem_classes=\"green-button\"), [], [save])\n",
        "\n",
        "view.launch(share=True) #, debug=True)"
      ],
      "metadata": {
        "id": "JzMJqCajHQpM"
      },
      "execution_count": null,
      "outputs": []
    }
  ]
}