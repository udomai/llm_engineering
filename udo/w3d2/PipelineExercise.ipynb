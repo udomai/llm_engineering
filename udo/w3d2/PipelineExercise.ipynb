{
  "nbformat": 4,
  "nbformat_minor": 0,
  "metadata": {
    "colab": {
      "provenance": [],
      "gpuType": "T4",
      "authorship_tag": "ABX9TyPHzx3E3ueRqYrPXYMwbA3U",
      "include_colab_link": true
    },
    "kernelspec": {
      "name": "python3",
      "display_name": "Python 3"
    },
    "language_info": {
      "name": "python"
    },
    "accelerator": "GPU"
  },
  "cells": [
    {
      "cell_type": "markdown",
      "metadata": {
        "id": "view-in-github",
        "colab_type": "text"
      },
      "source": [
        "<a href=\"https://colab.research.google.com/github/udomai/llm_engineering/blob/main/udo/w3d2/PipelineExercise.ipynb\" target=\"_parent\"><img src=\"https://colab.research.google.com/assets/colab-badge.svg\" alt=\"Open In Colab\"/></a>"
      ]
    },
    {
      "cell_type": "code",
      "execution_count": null,
      "metadata": {
        "id": "gZN-wZ9kHBR8"
      },
      "outputs": [],
      "source": [
        "from google.colab import files\n",
        "uploaded = files.upload()"
      ]
    },
    {
      "cell_type": "code",
      "source": [
        "print(uploaded.keys()) #uploaded[\"note.jpg\"]"
      ],
      "metadata": {
        "id": "1RZi1z9cIhtU"
      },
      "execution_count": null,
      "outputs": []
    },
    {
      "cell_type": "code",
      "source": [
        "!pip install -q transformers datasets diffusers"
      ],
      "metadata": {
        "id": "F-IBLVPnKlB4"
      },
      "execution_count": 22,
      "outputs": []
    },
    {
      "cell_type": "code",
      "source": [
        "# Imports from LLM engineering course\n",
        "\n",
        "import torch\n",
        "from google.colab import userdata\n",
        "from huggingface_hub import login\n",
        "from transformers import pipeline\n",
        "from diffusers import DiffusionPipeline"
      ],
      "metadata": {
        "id": "izLPfbQCKQLd"
      },
      "execution_count": 23,
      "outputs": []
    },
    {
      "cell_type": "code",
      "source": [
        "hf_token = userdata.get('HF_TOKEN')\n",
        "login(hf_token, add_to_git_credential=True)"
      ],
      "metadata": {
        "id": "XHG5yTsNKvyW"
      },
      "execution_count": 24,
      "outputs": []
    },
    {
      "cell_type": "code",
      "source": [
        "#vqa = pipeline(\"vqa\", device=\"cuda\")\n",
        "itt = pipeline(\"image-to-text\", device=\"cuda\")\n",
        "image_path = \"porto (1).jpg\"\n",
        "image = uploaded[image_path]\n",
        "with open(image_path, \"wb\") as f:\n",
        "  f.write(image)"
      ],
      "metadata": {
        "id": "QOJpRjwFMHtr"
      },
      "execution_count": null,
      "outputs": []
    },
    {
      "cell_type": "code",
      "source": [
        "result = itt(image_path)\n",
        "print(result)"
      ],
      "metadata": {
        "id": "nZ0lwzWaMqnE"
      },
      "execution_count": null,
      "outputs": []
    }
  ]
}