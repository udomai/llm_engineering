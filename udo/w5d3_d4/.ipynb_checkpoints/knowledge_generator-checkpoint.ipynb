{
 "cells": [
  {
   "cell_type": "code",
   "execution_count": null,
   "id": "59bed858-413a-4aae-ba6e-6e57fb041f9f",
   "metadata": {},
   "outputs": [],
   "source": [
    "import os\n",
    "import re\n",
    "import glob\n",
    "from dotenv import load_dotenv\n",
    "from openai import OpenAI"
   ]
  },
  {
   "cell_type": "code",
   "execution_count": null,
   "id": "ea75914d-8134-49a9-86ae-83d67290b771",
   "metadata": {},
   "outputs": [],
   "source": [
    "MODEL = \"gpt-4o-mini\""
   ]
  },
  {
   "cell_type": "code",
   "execution_count": null,
   "id": "260c961d-4dc7-4f49-87a5-dfe782ac623a",
   "metadata": {},
   "outputs": [],
   "source": [
    "load_dotenv()\n",
    "os.environ['OPENAI_API_KEY'] = os.getenv('OPENAI_API_KEY')\n",
    "openai = OpenAI()"
   ]
  },
  {
   "cell_type": "code",
   "execution_count": null,
   "id": "03ce2cb5-5631-4f39-b17f-1bbb5780650a",
   "metadata": {},
   "outputs": [],
   "source": [
    "system_prompt = \"You are a helpful and knowledgeable assistant with extensive knowledge regarding geography, languages, history \\\n",
    "and more. Give your answers in markdown. Do not comment on your answers. Do not put your answers in ```.\""
   ]
  },
  {
   "cell_type": "code",
   "execution_count": null,
   "id": "20e41994-9f74-4042-bb8f-650eef58d560",
   "metadata": {},
   "outputs": [],
   "source": [
    "items = glob.glob(\"knowledge_collection/mountains/*\")\n",
    "topics = {}\n",
    "\n",
    "#This formatting of the path is Windows-specific (since my Jupyter Lab runs in Anaconda's Power Shell instead of Git Bash)\n",
    "for item in items:\n",
    "    string = re.sub(r\"^.*\\\\(.*)\\.md$\", r\"\\1\", item)\n",
    "    topics[re.sub(r\"_\", r\" \", string)] = \".\\\\\" + re.sub(r\"/\", r\"\\\\\", item)"
   ]
  },
  {
   "cell_type": "code",
   "execution_count": null,
   "id": "24ee32bd-19d2-428f-accc-f82b4c8c5da7",
   "metadata": {},
   "outputs": [],
   "source": [
    "# The file name and its location are in the dict \"topics\" {\"alsacien\": \".\\\\knowledge_collection\\\\languages\\\\alsacien.md\"}\n",
    "# All those files are empty. Now ask OpenAI to fill them with knowledge. Adapt the 'subject' part of the prompt to the topic (folder)!\n",
    "\n",
    "for topic in list(topics.keys()):\n",
    "    subject = f\"the mountain range called '{topic}' in France\"\n",
    "    user_prompt = f\"Please give me a nice overview of facts about {subject}. Please output your answer in markdown. Don't comment on your answer, please just output the markdown.\"\n",
    "\n",
    "    response = openai.chat.completions.create(\n",
    "    model = MODEL,\n",
    "    messages = [\n",
    "        {\"role\": \"system\", \"content\": system_prompt},\n",
    "        {\"role\": \"user\", \"content\": user_prompt}\n",
    "    ]\n",
    "    )\n",
    "    answer = response.choices[0].message.content\n",
    "\n",
    "    with open(topics[topic], mode=\"w\", encoding=\"utf-8\") as f:\n",
    "        f.write(answer)"
   ]
  },
  {
   "cell_type": "markdown",
   "id": "874a66b6-7501-4ed4-9522-cd75794c0b38",
   "metadata": {},
   "source": [
    "### Stuff I had to figure out first"
   ]
  },
  {
   "cell_type": "code",
   "execution_count": null,
   "id": "70a5c573-db86-48fb-a07c-36ca5e711d82",
   "metadata": {},
   "outputs": [],
   "source": [
    "print(topics)"
   ]
  },
  {
   "cell_type": "code",
   "execution_count": null,
   "id": "19742b54-7c12-48b9-a6d1-beb9b032cfb0",
   "metadata": {},
   "outputs": [],
   "source": [
    "for key in list(topics.keys()):\n",
    "    file = \".\\\\knowledge_collection\\\\test_\" + key + \".md\"\n",
    "    !echo.> {file}"
   ]
  },
  {
   "cell_type": "code",
   "execution_count": null,
   "id": "dbda2f59-ade3-4a05-9e4a-9d173ac51ae4",
   "metadata": {},
   "outputs": [],
   "source": [
    "!echo.> test.txt"
   ]
  },
  {
   "cell_type": "code",
   "execution_count": null,
   "id": "e23f2b9b-1126-413f-8a99-55652fc3cc94",
   "metadata": {},
   "outputs": [],
   "source": [
    "with open(\"test.txt\", \"w\") as f:\n",
    "    f.write(\"This is a test!\")"
   ]
  }
 ],
 "metadata": {
  "kernelspec": {
   "display_name": "Python 3 (ipykernel)",
   "language": "python",
   "name": "python3"
  },
  "language_info": {
   "codemirror_mode": {
    "name": "ipython",
    "version": 3
   },
   "file_extension": ".py",
   "mimetype": "text/x-python",
   "name": "python",
   "nbconvert_exporter": "python",
   "pygments_lexer": "ipython3",
   "version": "3.11.11"
  }
 },
 "nbformat": 4,
 "nbformat_minor": 5
}
